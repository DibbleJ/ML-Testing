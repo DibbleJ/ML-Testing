{
 "cells": [
  {
   "cell_type": "code",
   "execution_count": 71,
   "id": "bc25cd61",
   "metadata": {},
   "outputs": [],
   "source": [
    "import pandas as pd\n",
    "import numpy as np"
   ]
  },
  {
   "cell_type": "code",
   "execution_count": 7,
   "id": "0e651c07",
   "metadata": {},
   "outputs": [
    {
     "data": {
      "text/html": [
       "<div>\n",
       "<style scoped>\n",
       "    .dataframe tbody tr th:only-of-type {\n",
       "        vertical-align: middle;\n",
       "    }\n",
       "\n",
       "    .dataframe tbody tr th {\n",
       "        vertical-align: top;\n",
       "    }\n",
       "\n",
       "    .dataframe thead th {\n",
       "        text-align: right;\n",
       "    }\n",
       "</style>\n",
       "<table border=\"1\" class=\"dataframe\">\n",
       "  <thead>\n",
       "    <tr style=\"text-align: right;\">\n",
       "      <th></th>\n",
       "      <th>Meal Name</th>\n",
       "      <th>Ingredients</th>\n",
       "    </tr>\n",
       "  </thead>\n",
       "  <tbody>\n",
       "    <tr>\n",
       "      <th>0</th>\n",
       "      <td>Pizza</td>\n",
       "      <td>Crust\\nSauce\\nToppings</td>\n",
       "    </tr>\n",
       "    <tr>\n",
       "      <th>1</th>\n",
       "      <td>Korean Beef</td>\n",
       "      <td>Rice\\nBeef\\nGreen Onions</td>\n",
       "    </tr>\n",
       "    <tr>\n",
       "      <th>2</th>\n",
       "      <td>Cheddar Chicken</td>\n",
       "      <td>Chicken\\nCheddar\\nRitz\\nMilk</td>\n",
       "    </tr>\n",
       "    <tr>\n",
       "      <th>3</th>\n",
       "      <td>Cheeseburgers</td>\n",
       "      <td>Beef\\nColby Jack Cheese\\nFries\\nBuns</td>\n",
       "    </tr>\n",
       "    <tr>\n",
       "      <th>4</th>\n",
       "      <td>Soup</td>\n",
       "      <td>Chicken\\nStock\\nVegetables</td>\n",
       "    </tr>\n",
       "  </tbody>\n",
       "</table>\n",
       "</div>"
      ],
      "text/plain": [
       "         Meal Name                           Ingredients\n",
       "0            Pizza                Crust\\nSauce\\nToppings\n",
       "1      Korean Beef              Rice\\nBeef\\nGreen Onions\n",
       "2  Cheddar Chicken          Chicken\\nCheddar\\nRitz\\nMilk\n",
       "3    Cheeseburgers  Beef\\nColby Jack Cheese\\nFries\\nBuns\n",
       "4             Soup            Chicken\\nStock\\nVegetables"
      ]
     },
     "execution_count": 7,
     "metadata": {},
     "output_type": "execute_result"
    }
   ],
   "source": [
    "Grocery = pd.read_excel(\"Grocery.xlsx\", sheet_name=\"Ingredients\")\n",
    "Grocery"
   ]
  },
  {
   "cell_type": "code",
   "execution_count": 6,
   "id": "a624ceab",
   "metadata": {},
   "outputs": [
    {
     "data": {
      "text/html": [
       "<div>\n",
       "<style scoped>\n",
       "    .dataframe tbody tr th:only-of-type {\n",
       "        vertical-align: middle;\n",
       "    }\n",
       "\n",
       "    .dataframe tbody tr th {\n",
       "        vertical-align: top;\n",
       "    }\n",
       "\n",
       "    .dataframe thead th {\n",
       "        text-align: right;\n",
       "    }\n",
       "</style>\n",
       "<table border=\"1\" class=\"dataframe\">\n",
       "  <thead>\n",
       "    <tr style=\"text-align: right;\">\n",
       "      <th></th>\n",
       "      <th>Meal Name</th>\n",
       "      <th>Ingredient 1</th>\n",
       "      <th>Ingredient 2</th>\n",
       "      <th>Ingredient 3</th>\n",
       "      <th>Ingredient 4</th>\n",
       "    </tr>\n",
       "  </thead>\n",
       "  <tbody>\n",
       "    <tr>\n",
       "      <th>0</th>\n",
       "      <td>Pizza</td>\n",
       "      <td>Crust</td>\n",
       "      <td>Sauce</td>\n",
       "      <td>Toppings</td>\n",
       "      <td>NaN</td>\n",
       "    </tr>\n",
       "    <tr>\n",
       "      <th>1</th>\n",
       "      <td>Korean Beef</td>\n",
       "      <td>Rice</td>\n",
       "      <td>Beef</td>\n",
       "      <td>Green Onions</td>\n",
       "      <td>NaN</td>\n",
       "    </tr>\n",
       "    <tr>\n",
       "      <th>2</th>\n",
       "      <td>Cheddar Chicken</td>\n",
       "      <td>Chicken</td>\n",
       "      <td>Cheddar</td>\n",
       "      <td>Ritz</td>\n",
       "      <td>Milk</td>\n",
       "    </tr>\n",
       "    <tr>\n",
       "      <th>3</th>\n",
       "      <td>Cheeseburgers</td>\n",
       "      <td>Beef</td>\n",
       "      <td>Colby Jack Cheese</td>\n",
       "      <td>Fries</td>\n",
       "      <td>Buns</td>\n",
       "    </tr>\n",
       "    <tr>\n",
       "      <th>4</th>\n",
       "      <td>Soup</td>\n",
       "      <td>Chicken</td>\n",
       "      <td>Chicken Stock</td>\n",
       "      <td>Vegetables</td>\n",
       "      <td>NaN</td>\n",
       "    </tr>\n",
       "  </tbody>\n",
       "</table>\n",
       "</div>"
      ],
      "text/plain": [
       "         Meal Name Ingredient 1       Ingredient 2  Ingredient 3 Ingredient 4\n",
       "0            Pizza        Crust              Sauce      Toppings          NaN\n",
       "1      Korean Beef         Rice               Beef  Green Onions          NaN\n",
       "2  Cheddar Chicken      Chicken            Cheddar          Ritz         Milk\n",
       "3    Cheeseburgers         Beef  Colby Jack Cheese         Fries         Buns\n",
       "4             Soup      Chicken      Chicken Stock    Vegetables          NaN"
      ]
     },
     "execution_count": 6,
     "metadata": {},
     "output_type": "execute_result"
    }
   ],
   "source": [
    "Grocery2 = pd.read_excel(\"Grocery.xlsx\", sheet_name=\"Ingredients2\")\n",
    "Grocery2"
   ]
  },
  {
   "cell_type": "code",
   "execution_count": 34,
   "id": "4673b1c7",
   "metadata": {},
   "outputs": [
    {
     "name": "stdout",
     "output_type": "stream",
     "text": [
      "How many meals are you planning? 5\n",
      "Pick a Meal to add to the Weekly Menu:Pizza\n",
      "Pick a Meal to add to the Weekly Menu:Soup\n",
      "Pick a Meal to add to the Weekly Menu:Cheeseburgers\n",
      "Pick a Meal to add to the Weekly Menu:Cheddar Chicken\n",
      "Pick a Meal to add to the Weekly Menu:Korean Beef\n",
      "['Pizza', 'Soup', 'Cheeseburgers', 'Cheddar Chicken', 'Korean Beef']\n"
     ]
    }
   ],
   "source": [
    "# Select 5 Meals. 1 dinner out to eat, 1 dinner is frozen pizza\n",
    "Meals = []\n",
    "MealNums = int(input(\"How many meals are you planning? \"))\n",
    "while len(Meals) < MealNums:\n",
    "    Selection = input(\"Pick a Meal to add to the Weekly Menu:\")\n",
    "    if Selection not in Grocery['Meal Name'].values:\n",
    "        print(\"Select an existing Meal.\")\n",
    "    else:\n",
    "        Meals.append(Selection)\n",
    "print(Meals)"
   ]
  },
  {
   "cell_type": "code",
   "execution_count": 79,
   "id": "0d09fee7",
   "metadata": {
    "scrolled": true
   },
   "outputs": [
    {
     "data": {
      "text/plain": [
       "['Beef',\n",
       " 'Beef',\n",
       " 'Buns',\n",
       " 'Cheddar',\n",
       " 'Chicken',\n",
       " 'Chicken',\n",
       " 'Chicken Stock',\n",
       " 'Colby Jack Cheese',\n",
       " 'Crust',\n",
       " 'Fries',\n",
       " 'Green Onions',\n",
       " 'Milk',\n",
       " 'Rice',\n",
       " 'Ritz',\n",
       " 'Sauce',\n",
       " 'Toppings',\n",
       " 'Vegetables']"
      ]
     },
     "execution_count": 79,
     "metadata": {},
     "output_type": "execute_result"
    }
   ],
   "source": [
    "List = []\n",
    "for meal in Meals:\n",
    "    for column in Grocery2.columns:\n",
    "        ingredient = Grocery2[Grocery2[\"Meal Name\"] == meal][column].values[0]\n",
    "        if \"Ingredient\" not in column or pd.isna(ingredient):\n",
    "            next\n",
    "        else:\n",
    "            List.append(Grocery2[Grocery2[\"Meal Name\"] == meal][column].values[0])\n",
    "List.sort()\n",
    "List"
   ]
  },
  {
   "cell_type": "code",
   "execution_count": null,
   "id": "07525843",
   "metadata": {},
   "outputs": [],
   "source": [
    "# Next steps:\n",
    "# Navigate Dillons website to automatically generate a shopping cart\n",
    "# Assign\n",
    "# Aggregate list to remove duplicates"
   ]
  }
 ],
 "metadata": {
  "kernelspec": {
   "display_name": "Python 3",
   "language": "python",
   "name": "python3"
  },
  "language_info": {
   "codemirror_mode": {
    "name": "ipython",
    "version": 3
   },
   "file_extension": ".py",
   "mimetype": "text/x-python",
   "name": "python",
   "nbconvert_exporter": "python",
   "pygments_lexer": "ipython3",
   "version": "3.7.10"
  }
 },
 "nbformat": 4,
 "nbformat_minor": 5
}
